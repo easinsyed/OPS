{
 "cells": [
  {
   "cell_type": "code",
   "execution_count": 1,
   "id": "21d57e4d-f0c3-4df4-b02a-788f1d8c635f",
   "metadata": {},
   "outputs": [
    {
     "name": "stdout",
     "output_type": "stream",
     "text": [
      "Files have been successfully moved!\n"
     ]
    }
   ],
   "source": [
    "#This is a silly script to move the gamma adjusted files to separate folders so I can run star dist and cellpose easier...not necessary\n",
    "import os\n",
    "import shutil\n",
    "\n",
    "# Define the base directory where your files are located\n",
    "base_directory = r'D:/Easin/OPS_Nov_2024/TIFF/gamma_adjusted_images'  # Change this to your folder path\n",
    "\n",
    "# Create the subdirectories if they don't exist\n",
    "nuclei_folder = os.path.join(base_directory, 'nuclei')\n",
    "cells_folder = os.path.join(base_directory, 'cells')\n",
    "\n",
    "os.makedirs(nuclei_folder, exist_ok=True)\n",
    "os.makedirs(cells_folder, exist_ok=True)\n",
    "\n",
    "# Loop through all files in the directory\n",
    "for filename in os.listdir(base_directory):\n",
    "    if filename.endswith('.tif'):\n",
    "        source_file = os.path.join(base_directory, filename)\n",
    "\n",
    "        # Move files based on their naming convention\n",
    "        if '_c0_DAPI' in filename:\n",
    "            destination_file = os.path.join(nuclei_folder, filename)\n",
    "            shutil.move(source_file, destination_file)\n",
    "        elif '_c1_AF488' in filename:\n",
    "            destination_file = os.path.join(cells_folder, filename)\n",
    "            shutil.move(source_file, destination_file)\n",
    "\n",
    "print(\"Files have been successfully moved!\")\n"
   ]
  },
  {
   "cell_type": "code",
   "execution_count": null,
   "id": "bc560420-eafa-45bb-ac4f-03b9d63343f6",
   "metadata": {},
   "outputs": [],
   "source": []
  }
 ],
 "metadata": {
  "kernelspec": {
   "display_name": "Python 3 (ipykernel)",
   "language": "python",
   "name": "python3"
  },
  "language_info": {
   "codemirror_mode": {
    "name": "ipython",
    "version": 3
   },
   "file_extension": ".py",
   "mimetype": "text/x-python",
   "name": "python",
   "nbconvert_exporter": "python",
   "pygments_lexer": "ipython3",
   "version": "3.10.16"
  }
 },
 "nbformat": 4,
 "nbformat_minor": 5
}
